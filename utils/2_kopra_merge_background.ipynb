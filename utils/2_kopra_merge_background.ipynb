{
 "cells": [
  {
   "cell_type": "code",
   "execution_count": 1,
   "metadata": {},
   "outputs": [],
   "source": [
    "from PIL import Image\n",
    "import os"
   ]
  },
  {
   "cell_type": "code",
   "execution_count": 2,
   "metadata": {},
   "outputs": [],
   "source": [
    "output_path = \"dataset/edible_telungkup_with_background\""
   ]
  },
  {
   "cell_type": "code",
   "execution_count": 3,
   "metadata": {},
   "outputs": [],
   "source": [
    "os.mkdir(output_path)"
   ]
  },
  {
   "cell_type": "code",
   "execution_count": 4,
   "metadata": {},
   "outputs": [],
   "source": [
    "edible_telungkup_files = os.listdir(\"dataset/edible_telungkup_without_background\")"
   ]
  },
  {
   "cell_type": "code",
   "execution_count": 5,
   "metadata": {},
   "outputs": [
    {
     "name": "stdout",
     "output_type": "stream",
     "text": [
      "123\n"
     ]
    }
   ],
   "source": [
    "for i in range(0, len(edible_telungkup_files), 2):\n",
    "\n",
    "    bg_image = Image.open(\"dataset/BG1.jpg\")\n",
    "\n",
    "    # Left Side\n",
    "    left_filename = edible_telungkup_files[i][:edible_telungkup_files[i].rfind('.')]\n",
    "    left_image = Image.open(f\"dataset/edible_telungkup_without_background/{edible_telungkup_files[i]}\").resize((400, 400))\n",
    "    bg_image.paste(left_image, (20, 300), left_image)\n",
    "\n",
    "    # Right Side\n",
    "    right_filename = edible_telungkup_files[i+1][:edible_telungkup_files[i+1].rfind('.')]\n",
    "    right_image = Image.open(f\"dataset/edible_telungkup_without_background/{edible_telungkup_files[i+1]}\").resize((400, 400))\n",
    "    bg_image.paste(right_image, (1350, 300), right_image)\n",
    "\n",
    "    bg_image.save(f\"{output_path}/BG1_{left_filename}_{right_filename}.png\")\n",
    "\n",
    "print(len(os.listdir(output_path)))"
   ]
  }
 ],
 "metadata": {
  "kaggle": {
   "accelerator": "none",
   "dataSources": [],
   "dockerImageVersionId": 30646,
   "isGpuEnabled": false,
   "isInternetEnabled": true,
   "language": "python",
   "sourceType": "notebook"
  },
  "kernelspec": {
   "display_name": "Python 3 (ipykernel)",
   "language": "python",
   "name": "python3"
  },
  "language_info": {
   "codemirror_mode": {
    "name": "ipython",
    "version": 3
   },
   "file_extension": ".py",
   "mimetype": "text/x-python",
   "name": "python",
   "nbconvert_exporter": "python",
   "pygments_lexer": "ipython3",
   "version": "3.10.11"
  }
 },
 "nbformat": 4,
 "nbformat_minor": 4
}
